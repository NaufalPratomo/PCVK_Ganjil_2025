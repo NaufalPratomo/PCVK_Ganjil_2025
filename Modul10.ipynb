{
  "nbformat": 4,
  "nbformat_minor": 0,
  "metadata": {
    "colab": {
      "provenance": [],
      "authorship_tag": "ABX9TyN/186uLzSEDGB767qBglxj",
      "include_colab_link": true
    },
    "kernelspec": {
      "name": "python3",
      "display_name": "Python 3"
    },
    "language_info": {
      "name": "python"
    }
  },
  "cells": [
    {
      "cell_type": "markdown",
      "metadata": {
        "id": "view-in-github",
        "colab_type": "text"
      },
      "source": [
        "<a href=\"https://colab.research.google.com/github/NaufalPratomo/PCVK_Ganjil_2025/blob/main/Modul10.ipynb\" target=\"_parent\"><img src=\"https://colab.research.google.com/assets/colab-badge.svg\" alt=\"Open In Colab\"/></a>"
      ]
    },
    {
      "cell_type": "markdown",
      "source": [
        "**Import Library**"
      ],
      "metadata": {
        "id": "aoKzgAEUDUQi"
      }
    },
    {
      "cell_type": "code",
      "execution_count": 1,
      "metadata": {
        "id": "fSt9lLMwCnTR"
      },
      "outputs": [],
      "source": [
        "import cv2\n",
        "import numpy as np\n",
        "from matplotlib import pyplot as plt"
      ]
    },
    {
      "cell_type": "markdown",
      "source": [
        "**Tugas 3: Global Thresholding Manual**"
      ],
      "metadata": {
        "id": "qbe-2hCIDaAd"
      }
    },
    {
      "cell_type": "code",
      "source": [
        "grad_img = np.zeros((256, 256), dtype=np.uint8)\n",
        "grad_img[:] = np.arange(256)\n",
        "\n",
        "# 2. Tentukan nilai threshold\n",
        "thresh_val = 170\n",
        "max_val = 255\n",
        "\n",
        "# 3. Implementasi manual\n",
        "# Buat salinan gambar asli\n",
        "img = grad_img.copy()\n",
        "\n",
        "# BINARY\n",
        "binary_manual = np.zeros_like(img)\n",
        "binary_manual[img > thresh_val] = max_val\n",
        "\n",
        "# BINARY_INV\n",
        "binary_inv_manual = np.zeros_like(img)\n",
        "binary_inv_manual[img <= thresh_val] = max_val\n",
        "\n",
        "# TRUNC\n",
        "trunc_manual = img.copy()\n",
        "trunc_manual[img > thresh_val] = thresh_val\n",
        "\n",
        "# TOZERO\n",
        "tozero_manual = img.copy()\n",
        "tozero_manual[img <= thresh_val] = 0\n",
        "\n",
        "# TOZERO_INV\n",
        "tozero_inv_manual = img.copy()\n",
        "tozero_inv_manual[img > thresh_val] = 0\n",
        "\n",
        "# 4. Tampilkan hasil\n",
        "titles = ['Original Image', 'BINARY', 'BINARY_INV', 'TRUNC', 'TOZERO', 'TOZERO_INV']\n",
        "images = [grad_img, binary_manual, binary_inv_manual, trunc_manual, tozero_manual, tozero_inv_manual]\n",
        "\n",
        "plt.figure(figsize=(15, 5))\n",
        "for i in range(6):\n",
        "    plt.subplot(2, 3, i + 1)\n",
        "    plt.imshow(images[i], 'gray', vmin=0, vmax=255)\n",
        "    plt.title(titles[i])\n",
        "    plt.xticks([]), plt.yticks([])\n",
        "plt.show()"
      ],
      "metadata": {
        "id": "MzutXXGlDddk",
        "outputId": "1083e2cc-6251-49f5-9346-ea366f4b5c4f",
        "colab": {
          "base_uri": "https://localhost:8080/",
          "height": 353
        }
      },
      "execution_count": 2,
      "outputs": [
        {
          "output_type": "display_data",
          "data": {
            "text/plain": [
              "<Figure size 1500x500 with 6 Axes>"
            ],
            "image/png": "[encoded data removed]"
          },
          "metadata": {}
        }
      ]
    },
    {
      "cell_type": "markdown",
      "source": [
        "**Tugas 4: Otsu's Thresholding Manual**"
      ],
      "metadata": {
        "id": "1yRbPRlADfFT"
      }
    },
    {
      "cell_type": "code",
      "source": [
        "img_balloon = cv2.imread('balloon.jpg', 0)\n",
        "\n",
        "# --- Implementasi Otsu Manual ---\n",
        "def manual_otsu(gray_img):\n",
        "    # Hitung histogram\n",
        "    hist = cv2.calcHist([gray_img], [0], None, [256], [0, 256])\n",
        "    total_pixels = gray_img.shape[0] * gray_img.shape[1]\n",
        "\n",
        "    # Normalisasi histogram untuk mendapatkan probabilitas\n",
        "    p = hist / total_pixels\n",
        "\n",
        "    max_variance = 0\n",
        "    best_threshold = 0\n",
        "\n",
        "    # Iterasi melalui semua kemungkinan threshold (t)\n",
        "    for t in range(256):\n",
        "        # Hitung w_b, mu_b (weight dan mean background)\n",
        "        w_b = np.sum(p[:t])\n",
        "        mu_b = np.sum(np.arange(t) * p[:t].T) / w_b if w_b > 0 else 0\n",
        "\n",
        "        # Hitung w_f, mu_f (weight dan mean foreground)\n",
        "        w_f = np.sum(p[t:])\n",
        "        mu_f = np.sum(np.arange(t, 256) * p[t:].T) / w_f if w_f > 0 else 0\n",
        "\n",
        "        # Hitung between-class variance\n",
        "        variance_between = w_b * w_f * ((mu_b - mu_f) ** 2)\n",
        "\n",
        "        if variance_between > max_variance:\n",
        "            max_variance = variance_between\n",
        "            best_threshold = t\n",
        "\n",
        "    return best_threshold\n",
        "\n",
        "# 2. Dapatkan nilai threshold dari Otsu manual\n",
        "otsu_thresh_val = manual_otsu(img_balloon)\n",
        "\n",
        "# 3. Terapkan thresholding\n",
        "# Global thresholding biasa (v=90)\n",
        "ret_global, global_thresh = cv2.threshold(img_balloon, 90, 255, cv2.THRESH_BINARY)\n",
        "# Otsu's thresholding manual\n",
        "ret_otsu, otsu_thresh = cv2.threshold(img_balloon, otsu_thresh_val, 255, cv2.THRESH_BINARY)\n",
        "\n",
        "# 4. Tampilkan hasil\n",
        "plt.figure(figsize=(15, 5))\n",
        "plt.subplot(1, 3, 1)\n",
        "plt.imshow(img_balloon, cmap='gray')\n",
        "plt.title('Citra Asli')\n",
        "\n",
        "plt.subplot(1, 3, 2)\n",
        "plt.imshow(global_thresh, cmap='gray')\n",
        "plt.title('Global Thresholding (v = 90)')\n",
        "\n",
        "plt.subplot(1, 3, 3)\n",
        "plt.imshow(otsu_thresh, cmap='gray')\n",
        "plt.title(f\"Otsu's Thresholding (V = {otsu_thresh_val})\")\n",
        "plt.show()"
      ],
      "metadata": {
        "id": "deqRXy7YDjz2",
        "outputId": "ce630c14-f864-49ce-abe1-c65addb2c4b0",
        "colab": {
          "base_uri": "https://localhost:8080/",
          "height": 332
        }
      },
      "execution_count": 3,
      "outputs": [
        {
          "output_type": "error",
          "ename": "AttributeError",
          "evalue": "'NoneType' object has no attribute 'shape'",
          "traceback": [
            "\u001b[0;31m---------------------------------------------------------------------------\u001b[0m",
            "\u001b[0;31mAttributeError\u001b[0m                            Traceback (most recent call last)",
            "\u001b[0;32m/tmp/ipython-input-95808087.py\u001b[0m in \u001b[0;36m<cell line: 0>\u001b[0;34m()\u001b[0m\n\u001b[1;32m     36\u001b[0m \u001b[0;34m\u001b[0m\u001b[0m\n\u001b[1;32m     37\u001b[0m \u001b[0;31m# 2. Dapatkan nilai threshold dari Otsu manual\u001b[0m\u001b[0;34m\u001b[0m\u001b[0;34m\u001b[0m\u001b[0m\n\u001b[0;32m---> 38\u001b[0;31m \u001b[0motsu_thresh_val\u001b[0m \u001b[0;34m=\u001b[0m \u001b[0mmanual_otsu\u001b[0m\u001b[0;34m(\u001b[0m\u001b[0mimg_balloon\u001b[0m\u001b[0;34m)\u001b[0m\u001b[0;34m\u001b[0m\u001b[0;34m\u001b[0m\u001b[0m\n\u001b[0m\u001b[1;32m     39\u001b[0m \u001b[0;34m\u001b[0m\u001b[0m\n\u001b[1;32m     40\u001b[0m \u001b[0;31m# 3. Terapkan thresholding\u001b[0m\u001b[0;34m\u001b[0m\u001b[0;34m\u001b[0m\u001b[0m\n",
            "\u001b[0;32m/tmp/ipython-input-95808087.py\u001b[0m in \u001b[0;36mmanual_otsu\u001b[0;34m(gray_img)\u001b[0m\n\u001b[1;32m      8\u001b[0m     \u001b[0;31m# Hitung histogram\u001b[0m\u001b[0;34m\u001b[0m\u001b[0;34m\u001b[0m\u001b[0m\n\u001b[1;32m      9\u001b[0m     \u001b[0mhist\u001b[0m \u001b[0;34m=\u001b[0m \u001b[0mcv2\u001b[0m\u001b[0;34m.\u001b[0m\u001b[0mcalcHist\u001b[0m\u001b[0;34m(\u001b[0m\u001b[0;34m[\u001b[0m\u001b[0mgray_img\u001b[0m\u001b[0;34m]\u001b[0m\u001b[0;34m,\u001b[0m \u001b[0;34m[\u001b[0m\u001b[0;36m0\u001b[0m\u001b[0;34m]\u001b[0m\u001b[0;34m,\u001b[0m \u001b[0;32mNone\u001b[0m\u001b[0;34m,\u001b[0m \u001b[0;34m[\u001b[0m\u001b[0;36m256\u001b[0m\u001b[0;34m]\u001b[0m\u001b[0;34m,\u001b[0m \u001b[0;34m[\u001b[0m\u001b[0;36m0\u001b[0m\u001b[0;34m,\u001b[0m \u001b[0;36m256\u001b[0m\u001b[0;34m]\u001b[0m\u001b[0;34m)\u001b[0m\u001b[0;34m\u001b[0m\u001b[0;34m\u001b[0m\u001b[0m\n\u001b[0;32m---> 10\u001b[0;31m     \u001b[0mtotal_pixels\u001b[0m \u001b[0;34m=\u001b[0m \u001b[0mgray_img\u001b[0m\u001b[0;34m.\u001b[0m\u001b[0mshape\u001b[0m\u001b[0;34m[\u001b[0m\u001b[0;36m0\u001b[0m\u001b[0;34m]\u001b[0m \u001b[0;34m*\u001b[0m \u001b[0mgray_img\u001b[0m\u001b[0;34m.\u001b[0m\u001b[0mshape\u001b[0m\u001b[0;34m[\u001b[0m\u001b[0;36m1\u001b[0m\u001b[0;34m]\u001b[0m\u001b[0;34m\u001b[0m\u001b[0;34m\u001b[0m\u001b[0m\n\u001b[0m\u001b[1;32m     11\u001b[0m \u001b[0;34m\u001b[0m\u001b[0m\n\u001b[1;32m     12\u001b[0m     \u001b[0;31m# Normalisasi histogram untuk mendapatkan probabilitas\u001b[0m\u001b[0;34m\u001b[0m\u001b[0;34m\u001b[0m\u001b[0m\n",
            "\u001b[0;31mAttributeError\u001b[0m: 'NoneType' object has no attribute 'shape'"
          ]
        }
      ]
    },
    {
      "cell_type": "markdown",
      "source": [
        "**Tugas 5: Histogram Foreground**"
      ],
      "metadata": {
        "id": "7Av7bQO_DlML"
      }
    },
    {
      "cell_type": "code",
      "source": [
        "img_tobacco = cv2.imread('tobacco.jpg')\n",
        "img_rgb = cv2.cvtColor(img_tobacco, cv2.COLOR_BGR2RGB)\n",
        "\n",
        "# 2. Buat mask untuk segmentasi\n",
        "# Ubah ke grayscale untuk membuat mask\n",
        "gray_tobacco = cv2.cvtColor(img_tobacco, cv2.COLOR_BGR2GRAY)\n",
        "# Karena background putih, kita gunakan THRESH_BINARY_INV\n",
        "ret, mask = cv2.threshold(gray_tobacco, 240, 255, cv2.THRESH_BINARY_INV)\n",
        "\n",
        "# 3. Tampilkan citra asli dan citra segmentasi (mask)\n",
        "plt.figure(figsize=(12, 12))\n",
        "plt.subplot(2, 2, 1)\n",
        "plt.imshow(img_rgb)\n",
        "plt.title('Citra Asli')\n",
        "\n",
        "plt.subplot(2, 2, 2)\n",
        "plt.imshow(mask, cmap='gray')\n",
        "plt.title('Citra Segment (Mask)')\n",
        "\n",
        "# 4. Hitung dan tampilkan histogram keseluruhan\n",
        "plt.subplot(2, 2, 3)\n",
        "colors = ('r', 'g', 'b')\n",
        "for i, col in enumerate(colors):\n",
        "    hist_full = cv2.calcHist([img_rgb], [i], None, [256], [0, 256])\n",
        "    plt.plot(hist_full, color=col)\n",
        "plt.title('Histogram dari keseluruhan citra')\n",
        "plt.xlim([0, 256])\n",
        "\n",
        "# 5. Hitung dan tampilkan histogram foreground saja (menggunakan mask)\n",
        "plt.subplot(2, 2, 4)\n",
        "for i, col in enumerate(colors):\n",
        "    hist_masked = cv2.calcHist([img_rgb], [i], mask, [256], [0, 256])\n",
        "    plt.plot(hist_masked, color=col)\n",
        "plt.title('Histogram hanya pada FG objek saja')\n",
        "plt.xlim([0, 256])\n",
        "\n",
        "plt.show()"
      ],
      "metadata": {
        "id": "jKBvPkp5Dofd"
      },
      "execution_count": null,
      "outputs": []
    },
    {
      "cell_type": "markdown",
      "source": [
        "**Tugas 6: Segmentasi Warna dengan K-Means**"
      ],
      "metadata": {
        "id": "gJGR_QboDux-"
      }
    },
    {
      "cell_type": "code",
      "source": [
        "img_peppers = cv2.imread('peppers.jpg')\n",
        "img_peppers_rgb = cv2.cvtColor(img_peppers, cv2.COLOR_BGR2RGB)\n",
        "\n",
        "# 2. Reshape gambar menjadi daftar piksel\n",
        "pixel_values = img_peppers_rgb.reshape((-1, 3))\n",
        "pixel_values = np.float32(pixel_values)\n",
        "\n",
        "# 3. Jalankan K-Means\n",
        "criteria = (cv2.TERM_CRITERIA_EPS + cv2.TERM_CRITERIA_MAX_ITER, 100, 0.2)\n",
        "k = 5 # Coba dengan 5 cluster untuk memisahkan warna utama\n",
        "compactness, labels, centers = cv2.kmeans(pixel_values, k, None, criteria, 10, cv2.KMEANS_RANDOM_CENTERS)\n",
        "\n",
        "# Konversi centers (centroid) ke format uint8\n",
        "centers = np.uint8(centers)\n",
        "\n",
        "# 4. Identifikasi cluster warna kuning\n",
        "# Warna kuning memiliki nilai R dan G tinggi, B rendah\n",
        "yellow_cluster_index = np.argmin(centers[:, 2]) # Asumsi cluster dengan nilai Biru (indeks 2) terendah\n",
        "\n",
        "# 5. Buat gambar baru, tampilkan hanya cluster kuning\n",
        "masked_image = np.copy(pixel_values)\n",
        "# Ubah semua piksel yang BUKAN bagian dari cluster kuning menjadi putih\n",
        "masked_image[labels.flatten() != yellow_cluster_index] = [255, 255, 255]\n",
        "\n",
        "# Reshape kembali ke bentuk gambar asli\n",
        "masked_image = masked_image.reshape(img_peppers_rgb.shape)\n",
        "\n",
        "# 6. Tampilkan hasil\n",
        "plt.figure(figsize=(12, 6))\n",
        "plt.subplot(1, 2, 1)\n",
        "plt.imshow(img_peppers_rgb)\n",
        "plt.title('Citra Asli')\n",
        "\n",
        "plt.subplot(1, 2, 2)\n",
        "plt.imshow(masked_image)\n",
        "plt.title('Hanya Warna Kuning')\n",
        "plt.show()"
      ],
      "metadata": {
        "id": "Z_7aZbm4DwQa"
      },
      "execution_count": null,
      "outputs": []
    },
    {
      "cell_type": "markdown",
      "source": [
        "**Tugas 7: Thresholding Terbaik untuk \"crossword.jpg\"**"
      ],
      "metadata": {
        "id": "PZTivCvCDyfm"
      }
    },
    {
      "cell_type": "code",
      "source": [
        "# 1. Baca gambar\n",
        "img_crossword = cv2.imread('crossword.jpg', 0)\n",
        "\n",
        "# 2. Terapkan Adaptive Thresholding\n",
        "# cv.ADAPTIVE_THRESH_GAUSSIAN_C seringkali memberikan hasil yang lebih halus\n",
        "# Block Size dan C adalah parameter yang bisa di-tuning\n",
        "# Block size harus ganjil\n",
        "best_thresh = cv2.adaptiveThreshold(\n",
        "    img_crossword,\n",
        "    255,\n",
        "    cv2.ADAPTIVE_THRESH_GAUSSIAN_C,\n",
        "    cv2.THRESH_BINARY,\n",
        "    15, # Block size\n",
        "    5   # Constant C\n",
        ")\n",
        "\n",
        "# 3. Tampilkan hasil\n",
        "plt.figure(figsize=(12, 6))\n",
        "plt.subplot(1, 2, 1)\n",
        "plt.imshow(img_crossword, cmap='gray')\n",
        "plt.title('Citra Asli Crossword')\n",
        "\n",
        "plt.subplot(1, 2, 2)\n",
        "plt.imshow(best_thresh, cmap='gray')\n",
        "plt.title('Hasil Adaptive Thresholding')\n",
        "plt.show()"
      ],
      "metadata": {
        "id": "Q7s2p9EqDz_8"
      },
      "execution_count": null,
      "outputs": []
    }
  ]
}